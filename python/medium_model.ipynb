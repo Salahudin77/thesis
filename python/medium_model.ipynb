{
  "nbformat": 4,
  "nbformat_minor": 0,
  "metadata": {
    "colab": {
      "provenance": [],
      "authorship_tag": "ABX9TyOBoch9kIhmjmeVzR8S5ZNQ",
      "include_colab_link": true
    },
    "kernelspec": {
      "name": "python3",
      "display_name": "Python 3"
    },
    "language_info": {
      "name": "python"
    }
  },
  "cells": [
    {
      "cell_type": "markdown",
      "metadata": {
        "id": "view-in-github",
        "colab_type": "text"
      },
      "source": [
        "<a href=\"https://colab.research.google.com/github/Salahudin77/thesis/blob/main/python/medium_model.ipynb\" target=\"_parent\"><img src=\"https://colab.research.google.com/assets/colab-badge.svg\" alt=\"Open In Colab\"/></a>"
      ]
    },
    {
      "cell_type": "code",
      "execution_count": 2,
      "metadata": {
        "colab": {
          "base_uri": "https://localhost:8080/"
        },
        "id": "MCb2HcY_j2mC",
        "outputId": "edb67ba0-eb71-4f3c-b12d-e5841fafd471"
      },
      "outputs": [
        {
          "output_type": "stream",
          "name": "stdout",
          "text": [
            "Epoch 1/5\n",
            "\u001b[1m844/844\u001b[0m \u001b[32m━━━━━━━━━━━━━━━━━━━━\u001b[0m\u001b[37m\u001b[0m \u001b[1m53s\u001b[0m 59ms/step - accuracy: 0.8676 - loss: 0.4410 - val_accuracy: 0.9817 - val_loss: 0.0599\n",
            "Epoch 2/5\n",
            "\u001b[1m844/844\u001b[0m \u001b[32m━━━━━━━━━━━━━━━━━━━━\u001b[0m\u001b[37m\u001b[0m \u001b[1m81s\u001b[0m 58ms/step - accuracy: 0.9814 - loss: 0.0592 - val_accuracy: 0.9858 - val_loss: 0.0479\n",
            "Epoch 3/5\n",
            "\u001b[1m844/844\u001b[0m \u001b[32m━━━━━━━━━━━━━━━━━━━━\u001b[0m\u001b[37m\u001b[0m \u001b[1m82s\u001b[0m 58ms/step - accuracy: 0.9878 - loss: 0.0383 - val_accuracy: 0.9892 - val_loss: 0.0403\n",
            "Epoch 4/5\n",
            "\u001b[1m844/844\u001b[0m \u001b[32m━━━━━━━━━━━━━━━━━━━━\u001b[0m\u001b[37m\u001b[0m \u001b[1m53s\u001b[0m 63ms/step - accuracy: 0.9910 - loss: 0.0286 - val_accuracy: 0.9892 - val_loss: 0.0445\n",
            "Epoch 5/5\n",
            "\u001b[1m844/844\u001b[0m \u001b[32m━━━━━━━━━━━━━━━━━━━━\u001b[0m\u001b[37m\u001b[0m \u001b[1m76s\u001b[0m 56ms/step - accuracy: 0.9918 - loss: 0.0249 - val_accuracy: 0.9902 - val_loss: 0.0362\n",
            "\u001b[1m313/313\u001b[0m \u001b[32m━━━━━━━━━━━━━━━━━━━━\u001b[0m\u001b[37m\u001b[0m \u001b[1m3s\u001b[0m 11ms/step - accuracy: 0.9859 - loss: 0.0404\n",
            "Medium Model Results:\n",
            " Training Time: 379.67s\n",
            " Accuracy: 0.9884, Loss: 0.0335\n",
            " Memory Usage: 1370.79 MB\n"
          ]
        }
      ],
      "source": [
        "# 🟡 Medium Model: Small CNN (2 hidden layers)\n",
        "\n",
        "import tensorflow as tf\n",
        "from tensorflow.keras import layers, models\n",
        "from tensorflow.keras.datasets import mnist\n",
        "import time, psutil, os\n",
        "\n",
        "# Data\n",
        "(x_train, y_train), (x_test, y_test) = mnist.load_data()\n",
        "x_train, x_test = x_train / 255.0, x_test / 255.0\n",
        "x_train_cnn = x_train.reshape((-1, 28, 28, 1))\n",
        "x_test_cnn = x_test.reshape((-1, 28, 28, 1))\n",
        "\n",
        "# Model\n",
        "model_medium = models.Sequential([\n",
        "    layers.Conv2D(32, (3,3), activation='relu', input_shape=(28,28,1)),\n",
        "    layers.MaxPooling2D((2,2)),\n",
        "    layers.Conv2D(64, (3,3), activation='relu'),\n",
        "    layers.MaxPooling2D((2,2)),\n",
        "    layers.Flatten(),\n",
        "    layers.Dense(64, activation='relu'),\n",
        "    layers.Dense(10, activation='softmax')\n",
        "])\n",
        "model_medium.compile(optimizer='adam',\n",
        "                     loss='sparse_categorical_crossentropy',\n",
        "                     metrics=['accuracy'])\n",
        "\n",
        "# Train & Benchmark\n",
        "start_time = time.time()\n",
        "model_medium.fit(x_train_cnn, y_train, epochs=5, batch_size=64, validation_split=0.1)\n",
        "end_time = time.time()\n",
        "\n",
        "test_loss, test_acc = model_medium.evaluate(x_test_cnn, y_test)\n",
        "mem_usage = psutil.Process(os.getpid()).memory_info().rss / (1024 ** 2)\n",
        "\n",
        "\n",
        "print(\"Medium Model Results:\")\n",
        "print(f\" Training Time: {end_time - start_time:.2f}s\")\n",
        "print(f\" Accuracy: {test_acc:.4f}, Loss: {test_loss:.4f}\")\n",
        "print(f\" Memory Usage: {mem_usage:.2f} MB\")"
      ]
    }
  ]
}