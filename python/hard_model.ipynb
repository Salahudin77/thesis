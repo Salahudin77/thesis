{
  "nbformat": 4,
  "nbformat_minor": 0,
  "metadata": {
    "colab": {
      "provenance": [],
      "authorship_tag": "ABX9TyOFbZvVEFYQfE7uLGcEaAYt",
      "include_colab_link": true
    },
    "kernelspec": {
      "name": "python3",
      "display_name": "Python 3"
    },
    "language_info": {
      "name": "python"
    }
  },
  "cells": [
    {
      "cell_type": "markdown",
      "metadata": {
        "id": "view-in-github",
        "colab_type": "text"
      },
      "source": [
        "<a href=\"https://colab.research.google.com/github/Salahudin77/thesis/blob/main/python/hard_model.ipynb\" target=\"_parent\"><img src=\"https://colab.research.google.com/assets/colab-badge.svg\" alt=\"Open In Colab\"/></a>"
      ]
    },
    {
      "cell_type": "code",
      "execution_count": 1,
      "metadata": {
        "colab": {
          "base_uri": "https://localhost:8080/"
        },
        "id": "fHQC7gtFrOvG",
        "outputId": "bdb8b3af-e563-4ac1-e570-dae8d5cc681e"
      },
      "outputs": [
        {
          "output_type": "stream",
          "name": "stdout",
          "text": [
            "Downloading data from https://storage.googleapis.com/tensorflow/tf-keras-datasets/mnist.npz\n",
            "\u001b[1m11490434/11490434\u001b[0m \u001b[32m━━━━━━━━━━━━━━━━━━━━\u001b[0m\u001b[37m\u001b[0m \u001b[1m1s\u001b[0m 0us/step\n"
          ]
        },
        {
          "output_type": "stream",
          "name": "stderr",
          "text": [
            "/usr/local/lib/python3.11/dist-packages/keras/src/layers/convolutional/base_conv.py:107: UserWarning: Do not pass an `input_shape`/`input_dim` argument to a layer. When using Sequential models, prefer using an `Input(shape)` object as the first layer in the model instead.\n",
            "  super().__init__(activity_regularizer=activity_regularizer, **kwargs)\n"
          ]
        },
        {
          "output_type": "stream",
          "name": "stdout",
          "text": [
            "Epoch 1/5\n",
            "\u001b[1m844/844\u001b[0m \u001b[32m━━━━━━━━━━━━━━━━━━━━\u001b[0m\u001b[37m\u001b[0m \u001b[1m203s\u001b[0m 237ms/step - accuracy: 0.8712 - loss: 0.3957 - val_accuracy: 0.9855 - val_loss: 0.0492\n",
            "Epoch 2/5\n",
            "\u001b[1m844/844\u001b[0m \u001b[32m━━━━━━━━━━━━━━━━━━━━\u001b[0m\u001b[37m\u001b[0m \u001b[1m198s\u001b[0m 232ms/step - accuracy: 0.9811 - loss: 0.0609 - val_accuracy: 0.9915 - val_loss: 0.0285\n",
            "Epoch 3/5\n",
            "\u001b[1m844/844\u001b[0m \u001b[32m━━━━━━━━━━━━━━━━━━━━\u001b[0m\u001b[37m\u001b[0m \u001b[1m197s\u001b[0m 226ms/step - accuracy: 0.9863 - loss: 0.0442 - val_accuracy: 0.9920 - val_loss: 0.0304\n",
            "Epoch 4/5\n",
            "\u001b[1m844/844\u001b[0m \u001b[32m━━━━━━━━━━━━━━━━━━━━\u001b[0m\u001b[37m\u001b[0m \u001b[1m201s\u001b[0m 225ms/step - accuracy: 0.9893 - loss: 0.0346 - val_accuracy: 0.9932 - val_loss: 0.0250\n",
            "Epoch 5/5\n",
            "\u001b[1m844/844\u001b[0m \u001b[32m━━━━━━━━━━━━━━━━━━━━\u001b[0m\u001b[37m\u001b[0m \u001b[1m190s\u001b[0m 225ms/step - accuracy: 0.9911 - loss: 0.0285 - val_accuracy: 0.9927 - val_loss: 0.0269\n",
            "\u001b[1m313/313\u001b[0m \u001b[32m━━━━━━━━━━━━━━━━━━━━\u001b[0m\u001b[37m\u001b[0m \u001b[1m10s\u001b[0m 33ms/step - accuracy: 0.9902 - loss: 0.0271\n",
            "Hard Model Results:\n",
            " Training Time: 989.02s\n",
            " Accuracy: 0.9922, Loss: 0.0231\n",
            " Memory Usage: 1327.27 MB\n"
          ]
        }
      ],
      "source": [
        "# 🔴 Hard Model: Deep CNN (3 hidden layers + Dropout)\n",
        "\n",
        "import tensorflow as tf\n",
        "from tensorflow.keras import layers, models\n",
        "from tensorflow.keras.datasets import mnist\n",
        "import time, psutil, os\n",
        "\n",
        "# Data\n",
        "(x_train, y_train), (x_test, y_test) = mnist.load_data()\n",
        "x_train, x_test = x_train / 255.0, x_test / 255.0\n",
        "x_train_cnn = x_train.reshape((-1, 28, 28, 1))\n",
        "x_test_cnn = x_test.reshape((-1, 28, 28, 1))\n",
        "\n",
        "# Model\n",
        "model_hard = models.Sequential([\n",
        "    layers.Conv2D(32, (3,3), activation='relu', input_shape=(28,28,1)),\n",
        "    layers.Conv2D(64, (3,3), activation='relu'),\n",
        "    layers.MaxPooling2D((2,2)),\n",
        "    layers.Dropout(0.25),\n",
        "    layers.Conv2D(128, (3,3), activation='relu'),\n",
        "    layers.MaxPooling2D((2,2)),\n",
        "    layers.Flatten(),\n",
        "    layers.Dense(256, activation='relu'),\n",
        "    layers.Dropout(0.5),\n",
        "    layers.Dense(10, activation='softmax')\n",
        "])\n",
        "model_hard.compile(optimizer='adam',\n",
        "                   loss='sparse_categorical_crossentropy',\n",
        "                   metrics=['accuracy'])\n",
        "\n",
        "# Train & Benchmark\n",
        "start_time = time.time()\n",
        "model_hard.fit(x_train_cnn, y_train, epochs=5, batch_size=64, validation_split=0.1)\n",
        "end_time = time.time()\n",
        "\n",
        "test_loss, test_acc = model_hard.evaluate(x_test_cnn, y_test)\n",
        "mem_usage = psutil.Process(os.getpid()).memory_info().rss / (1024 ** 2)\n",
        "\n",
        "\n",
        "print(\"Hard Model Results:\")\n",
        "print(f\" Training Time: {end_time - start_time:.2f}s\")\n",
        "print(f\" Accuracy: {test_acc:.4f}, Loss: {test_loss:.4f}\")\n",
        "print(f\" Memory Usage: {mem_usage:.2f} MB\")\n"
      ]
    }
  ]
}