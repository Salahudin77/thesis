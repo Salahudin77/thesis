{
  "nbformat": 4,
  "nbformat_minor": 0,
  "metadata": {
    "colab": {
      "provenance": [],
      "authorship_tag": "ABX9TyNAoSKs3G0jdrUojPzO4LKq",
      "include_colab_link": true
    },
    "kernelspec": {
      "name": "python3",
      "display_name": "Python 3"
    },
    "language_info": {
      "name": "python"
    }
  },
  "cells": [
    {
      "cell_type": "markdown",
      "metadata": {
        "id": "view-in-github",
        "colab_type": "text"
      },
      "source": [
        "<a href=\"https://colab.research.google.com/github/Salahudin77/thesis/blob/main/python/python_cnn_benchmark.ipynb\" target=\"_parent\"><img src=\"https://colab.research.google.com/assets/colab-badge.svg\" alt=\"Open In Colab\"/></a>"
      ]
    },
    {
      "cell_type": "code",
      "execution_count": null,
      "metadata": {
        "colab": {
          "base_uri": "https://localhost:8080/"
        },
        "id": "GN7oaOVHg1M_",
        "outputId": "72db0412-57a8-417c-c679-7e57918cefc7"
      },
      "outputs": [
        {
          "output_type": "stream",
          "name": "stdout",
          "text": [
            "Epoch 1/5\n",
            "\u001b[1m313/313\u001b[0m \u001b[32m━━━━━━━━━━━━━━━━━━━━\u001b[0m\u001b[37m\u001b[0m \u001b[1m2s\u001b[0m 2ms/step - loss: 0.2327\n",
            "Epoch 2/5\n",
            "\u001b[1m313/313\u001b[0m \u001b[32m━━━━━━━━━━━━━━━━━━━━\u001b[0m\u001b[37m\u001b[0m \u001b[1m1s\u001b[0m 2ms/step - loss: 0.0926\n",
            "Epoch 3/5\n",
            "\u001b[1m313/313\u001b[0m \u001b[32m━━━━━━━━━━━━━━━━━━━━\u001b[0m\u001b[37m\u001b[0m \u001b[1m1s\u001b[0m 2ms/step - loss: 0.0874\n",
            "Epoch 4/5\n",
            "\u001b[1m313/313\u001b[0m \u001b[32m━━━━━━━━━━━━━━━━━━━━\u001b[0m\u001b[37m\u001b[0m \u001b[1m1s\u001b[0m 2ms/step - loss: 0.0853\n",
            "Epoch 5/5\n",
            "\u001b[1m313/313\u001b[0m \u001b[32m━━━━━━━━━━━━━━━━━━━━\u001b[0m\u001b[37m\u001b[0m \u001b[1m1s\u001b[0m 2ms/step - loss: 0.0828\n",
            "Execution Time: 4.77 seconds\n",
            "Memory Used: 21.52 MB\n",
            "Training time: 4.811966419219971\n"
          ]
        }
      ],
      "source": [
        "import tensorflow as tf\n",
        "import numpy as np\n",
        "import time\n",
        "import psutil\n",
        "import os\n",
        "import time\n",
        "\n",
        "\n",
        "# Simulate dummy data\n",
        "x_train = np.random.rand(10000, 100).astype(np.float32)\n",
        "y_train = np.random.rand(10000, 1).astype(np.float32)\n",
        "\n",
        "# Define a simple model\n",
        "model = tf.keras.Sequential([\n",
        "    tf.keras.layers.Dense(64, activation='relu'),\n",
        "    tf.keras.layers.Dense(1)\n",
        "])\n",
        "\n",
        "start = time.time()\n",
        "##model.fit(...)\n",
        "\n",
        "\n",
        "model.compile(optimizer='adam', loss='mse')\n",
        "\n",
        "# Track resources\n",
        "start_time = time.time()\n",
        "process = psutil.Process(os.getpid())\n",
        "start_mem = process.memory_info().rss\n",
        "\n",
        "# Train the model\n",
        "model.fit(x_train, y_train, epochs=5, batch_size=32)\n",
        "\n",
        "end_time = time.time()\n",
        "end_mem = process.memory_info().rss\n",
        "\n",
        "print(f\"Execution Time: {end_time - start_time:.2f} seconds\")\n",
        "print(f\"Memory Used: {(end_mem - start_mem) / (1024**2):.2f} MB\")\n",
        "print(\"Training time:\", time.time() - start)\n"
      ]
    },
    {
      "cell_type": "code",
      "source": [
        "# 📦 Imports\n",
        "import tensorflow as tf\n",
        "from tensorflow.keras import layers, models\n",
        "from tensorflow.keras.datasets import mnist\n",
        "import numpy as np\n",
        "import time\n",
        "import psutil\n",
        "import os\n",
        "\n",
        "#\"\" Load and preprocess MNIST data\n",
        "(x_train, y_train), (x_test, y_test) = mnist.load_data()\n",
        "x_train, x_test = x_train / 255.0, x_test / 255.0\n",
        "x_train = x_train.reshape((-1, 28, 28, 1))\n",
        "x_test = x_test.reshape((-1, 28, 28, 1))\n",
        "\n",
        "#### Build CNN model\n",
        "model = models.Sequential([\n",
        "    layers.Conv2D(32, (3,3), activation='relu', input_shape=(28,28,1)),\n",
        "    layers.MaxPooling2D((2,2)),\n",
        "    layers.Conv2D(64, (3,3), activation='relu'),\n",
        "    layers.MaxPooling2D((2,2)),\n",
        "    layers.Flatten(),\n",
        "    layers.Dense(64, activation='relu'),\n",
        "    layers.Dense(10, activation='softmax')\n",
        "])\n",
        "\n",
        "model.compile(optimizer='adam',\n",
        "              loss='sparse_categorical_crossentropy',\n",
        "              metrics=['accuracy'])\n",
        "\n",
        "# ## Train model with benchmarking\n",
        "start_time = time.time()\n",
        "model.fit(x_train, y_train, epochs=5, batch_size=64, validation_split=0.1)\n",
        "end_time = time.time()\n",
        "\n",
        "print(f\"\\n⏱️ Total Training Time: {end_time - start_time:.2f} seconds\")\n",
        "\n",
        "### Evaluate model\n",
        "test_loss, test_acc = model.evaluate(x_test, y_test)\n",
        "print(f\"🧪 Test Accuracy: {test_acc:.4f}\")\n",
        "print(f\"🧪 Test Loss: {test_loss:.4f}\")\n",
        "\n",
        "### Measure memory usage\n",
        "process = psutil.Process(os.getpid())\n",
        "mem_info = process.memory_info()\n",
        "print(f\"🧠 Memory Usage: {mem_info.rss / (1024 ** 2):.2f} MB\")\n",
        "\n",
        "## Developer notes\n",
        "dev_time_hours = 4.0\n",
        "difficulty_notes = \"Easy to implement using Keras. Minor bugs with shape mismatch.\"\n",
        "bugs_encountered = [\"Shape error\", \"Overfitting in early epochs\"]\n",
        "\n",
        "### Results summary\n",
        "results = {\n",
        "    \"training_time_sec\": end_time - start_time,\n",
        "    \"test_accuracy\": test_acc,\n",
        "    \"test_loss\": test_loss,\n",
        "    \"memory_usage_MB\": mem_info.rss / (1024 ** 2),\n",
        "    \"developer_hours\": dev_time_hours\n",
        "}\n",
        "print(\"\\n📊 Final Results Summary:\")\n",
        "for k, v in results.items():\n",
        "    print(f\"{k}: {v}\")\n"
      ],
      "metadata": {
        "id": "B-ZX_BrsqyE4",
        "outputId": "3ef2b92e-c115-4f83-85d1-128e40313e9e",
        "colab": {
          "base_uri": "https://localhost:8080/"
        }
      },
      "execution_count": 1,
      "outputs": [
        {
          "output_type": "stream",
          "name": "stdout",
          "text": [
            "Downloading data from https://storage.googleapis.com/tensorflow/tf-keras-datasets/mnist.npz\n",
            "\u001b[1m11490434/11490434\u001b[0m \u001b[32m━━━━━━━━━━━━━━━━━━━━\u001b[0m\u001b[37m\u001b[0m \u001b[1m0s\u001b[0m 0us/step\n"
          ]
        },
        {
          "output_type": "stream",
          "name": "stderr",
          "text": [
            "/usr/local/lib/python3.11/dist-packages/keras/src/layers/convolutional/base_conv.py:107: UserWarning: Do not pass an `input_shape`/`input_dim` argument to a layer. When using Sequential models, prefer using an `Input(shape)` object as the first layer in the model instead.\n",
            "  super().__init__(activity_regularizer=activity_regularizer, **kwargs)\n"
          ]
        },
        {
          "output_type": "stream",
          "name": "stdout",
          "text": [
            "Epoch 1/5\n",
            "\u001b[1m844/844\u001b[0m \u001b[32m━━━━━━━━━━━━━━━━━━━━\u001b[0m\u001b[37m\u001b[0m \u001b[1m50s\u001b[0m 57ms/step - accuracy: 0.8784 - loss: 0.4033 - val_accuracy: 0.9758 - val_loss: 0.0833\n",
            "Epoch 2/5\n",
            "\u001b[1m844/844\u001b[0m \u001b[32m━━━━━━━━━━━━━━━━━━━━\u001b[0m\u001b[37m\u001b[0m \u001b[1m76s\u001b[0m 50ms/step - accuracy: 0.9798 - loss: 0.0643 - val_accuracy: 0.9823 - val_loss: 0.0602\n",
            "Epoch 3/5\n",
            "\u001b[1m844/844\u001b[0m \u001b[32m━━━━━━━━━━━━━━━━━━━━\u001b[0m\u001b[37m\u001b[0m \u001b[1m83s\u001b[0m 51ms/step - accuracy: 0.9882 - loss: 0.0407 - val_accuracy: 0.9885 - val_loss: 0.0391\n",
            "Epoch 4/5\n",
            "\u001b[1m844/844\u001b[0m \u001b[32m━━━━━━━━━━━━━━━━━━━━\u001b[0m\u001b[37m\u001b[0m \u001b[1m84s\u001b[0m 54ms/step - accuracy: 0.9897 - loss: 0.0336 - val_accuracy: 0.9917 - val_loss: 0.0311\n",
            "Epoch 5/5\n",
            "\u001b[1m844/844\u001b[0m \u001b[32m━━━━━━━━━━━━━━━━━━━━\u001b[0m\u001b[37m\u001b[0m \u001b[1m79s\u001b[0m 50ms/step - accuracy: 0.9933 - loss: 0.0215 - val_accuracy: 0.9910 - val_loss: 0.0331\n",
            "\n",
            "⏱️ Total Training Time: 412.31 seconds\n",
            "\u001b[1m313/313\u001b[0m \u001b[32m━━━━━━━━━━━━━━━━━━━━\u001b[0m\u001b[37m\u001b[0m \u001b[1m3s\u001b[0m 11ms/step - accuracy: 0.9872 - loss: 0.0382\n",
            "🧪 Test Accuracy: 0.9898\n",
            "🧪 Test Loss: 0.0314\n",
            "🧠 Memory Usage: 1304.24 MB\n",
            "\n",
            "📊 Final Results Summary:\n",
            "training_time_sec: 412.3130443096161\n",
            "test_accuracy: 0.989799976348877\n",
            "test_loss: 0.03144805505871773\n",
            "memory_usage_MB: 1304.2421875\n",
            "developer_hours: 4.0\n"
          ]
        }
      ]
    }
  ]
}