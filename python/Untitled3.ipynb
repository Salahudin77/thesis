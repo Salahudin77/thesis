{
  "nbformat": 4,
  "nbformat_minor": 0,
  "metadata": {
    "colab": {
      "provenance": [],
      "authorship_tag": "ABX9TyOIzZZ6Wv9SLJXKAASjRqfE",
      "include_colab_link": true
    },
    "kernelspec": {
      "name": "python3",
      "display_name": "Python 3"
    },
    "language_info": {
      "name": "python"
    }
  },
  "cells": [
    {
      "cell_type": "markdown",
      "metadata": {
        "id": "view-in-github",
        "colab_type": "text"
      },
      "source": [
        "<a href=\"https://colab.research.google.com/github/Salahudin77/thesis/blob/main/python/Untitled3.ipynb\" target=\"_parent\"><img src=\"https://colab.research.google.com/assets/colab-badge.svg\" alt=\"Open In Colab\"/></a>"
      ]
    },
    {
      "cell_type": "code",
      "execution_count": 5,
      "metadata": {
        "colab": {
          "base_uri": "https://localhost:8080/"
        },
        "id": "GN7oaOVHg1M_",
        "outputId": "354239bf-a4b3-4650-b8b0-5cb7ab1f8334"
      },
      "outputs": [
        {
          "output_type": "stream",
          "name": "stdout",
          "text": [
            "Epoch 1/5\n",
            "\u001b[1m844/844\u001b[0m \u001b[32m━━━━━━━━━━━━━━━━━━━━\u001b[0m\u001b[37m\u001b[0m \u001b[1m4s\u001b[0m 4ms/step - accuracy: 0.8552 - loss: 0.5311 - val_accuracy: 0.9610 - val_loss: 0.1397\n",
            "Epoch 2/5\n",
            "\u001b[1m844/844\u001b[0m \u001b[32m━━━━━━━━━━━━━━━━━━━━\u001b[0m\u001b[37m\u001b[0m \u001b[1m3s\u001b[0m 4ms/step - accuracy: 0.9578 - loss: 0.1472 - val_accuracy: 0.9687 - val_loss: 0.1113\n",
            "Epoch 3/5\n",
            "\u001b[1m844/844\u001b[0m \u001b[32m━━━━━━━━━━━━━━━━━━━━\u001b[0m\u001b[37m\u001b[0m \u001b[1m3s\u001b[0m 4ms/step - accuracy: 0.9699 - loss: 0.1063 - val_accuracy: 0.9747 - val_loss: 0.0889\n",
            "Epoch 4/5\n",
            "\u001b[1m844/844\u001b[0m \u001b[32m━━━━━━━━━━━━━━━━━━━━\u001b[0m\u001b[37m\u001b[0m \u001b[1m4s\u001b[0m 5ms/step - accuracy: 0.9786 - loss: 0.0743 - val_accuracy: 0.9747 - val_loss: 0.0919\n",
            "Epoch 5/5\n",
            "\u001b[1m844/844\u001b[0m \u001b[32m━━━━━━━━━━━━━━━━━━━━\u001b[0m\u001b[37m\u001b[0m \u001b[1m3s\u001b[0m 3ms/step - accuracy: 0.9822 - loss: 0.0606 - val_accuracy: 0.9778 - val_loss: 0.0835\n",
            "\u001b[1m313/313\u001b[0m \u001b[32m━━━━━━━━━━━━━━━━━━━━\u001b[0m\u001b[37m\u001b[0m \u001b[1m1s\u001b[0m 2ms/step - accuracy: 0.9686 - loss: 0.1011\n",
            "Easy Model Results:\n",
            " Training Time: 19.82s\n",
            " Accuracy: 0.9740, Loss: 0.0860\n",
            " Memory Usage: 1833.39 MB\n"
          ]
        }
      ],
      "source": [
        "# 🟢 Easy Model:(1 hidden layer)\n",
        "\n",
        "import tensorflow as tf\n",
        "from tensorflow.keras import layers, models\n",
        "from tensorflow.keras.datasets import mnist\n",
        "import time, psutil, os\n",
        "\n",
        "# Data\n",
        "(x_train, y_train), (x_test, y_test) = mnist.load_data()\n",
        "x_train, x_test = x_train / 255.0, x_test / 255.0\n",
        "\n",
        "# Model\n",
        "model_easy = models.Sequential([\n",
        "    layers.Flatten(input_shape=(28, 28)),\n",
        "    layers.Dense(128, activation='relu'),\n",
        "    layers.Dense(10, activation='softmax')\n",
        "])\n",
        "model_easy.compile(optimizer='adam',\n",
        "                   loss='sparse_categorical_crossentropy',\n",
        "                   metrics=['accuracy'])\n",
        "\n",
        "# Train & Benchmark\n",
        "start_time = time.time()\n",
        "model_easy.fit(x_train, y_train, epochs=5, batch_size=64, validation_split=0.1)\n",
        "end_time = time.time()\n",
        "\n",
        "test_loss, test_acc = model_easy.evaluate(x_test, y_test)\n",
        "mem_usage = psutil.Process(os.getpid()).memory_info().rss / (1024 ** 2)\n",
        "\n",
        "print(\"Easy Model Results:\")\n",
        "print(f\" Training Time: {end_time - start_time:.2f}s\")\n",
        "print(f\" Accuracy: {test_acc:.4f}, Loss: {test_loss:.4f}\")\n",
        "print(f\" Memory Usage: {mem_usage:.2f} MB\")\n"
      ]
    },
    {
      "cell_type": "code",
      "source": [
        "# 🟡 Medium Model: Small CNN (2 hidden layers)\n",
        "\n",
        "import tensorflow as tf\n",
        "from tensorflow.keras import layers, models\n",
        "from tensorflow.keras.datasets import mnist\n",
        "import time, psutil, os\n",
        "\n",
        "# Data\n",
        "(x_train, y_train), (x_test, y_test) = mnist.load_data()\n",
        "x_train, x_test = x_train / 255.0, x_test / 255.0\n",
        "x_train_cnn = x_train.reshape((-1, 28, 28, 1))\n",
        "x_test_cnn = x_test.reshape((-1, 28, 28, 1))\n",
        "\n",
        "# Model\n",
        "model_medium = models.Sequential([\n",
        "    layers.Conv2D(32, (3,3), activation='relu', input_shape=(28,28,1)),\n",
        "    layers.MaxPooling2D((2,2)),\n",
        "    layers.Conv2D(64, (3,3), activation='relu'),\n",
        "    layers.MaxPooling2D((2,2)),\n",
        "    layers.Flatten(),\n",
        "    layers.Dense(64, activation='relu'),\n",
        "    layers.Dense(10, activation='softmax')\n",
        "])\n",
        "model_medium.compile(optimizer='adam',\n",
        "                     loss='sparse_categorical_crossentropy',\n",
        "                     metrics=['accuracy'])\n",
        "\n",
        "# Train & Benchmark\n",
        "start_time = time.time()\n",
        "model_medium.fit(x_train_cnn, y_train, epochs=5, batch_size=64, validation_split=0.1)\n",
        "end_time = time.time()\n",
        "\n",
        "test_loss, test_acc = model_medium.evaluate(x_test_cnn, y_test)\n",
        "mem_usage = psutil.Process(os.getpid()).memory_info().rss / (1024 ** 2)\n",
        "\n",
        "\n",
        "print(\"Medium Model Results:\")\n",
        "print(f\" Training Time: {end_time - start_time:.2f}s\")\n",
        "print(f\" Accuracy: {test_acc:.4f}, Loss: {test_loss:.4f}\")\n",
        "print(f\" Memory Usage: {mem_usage:.2f} MB\")\n",
        "\n"
      ],
      "metadata": {
        "colab": {
          "base_uri": "https://localhost:8080/"
        },
        "id": "X_DcEJQyBOLy",
        "outputId": "a5cff2ef-8570-44d7-aa5d-1bf093e1e7b7"
      },
      "execution_count": 6,
      "outputs": [
        {
          "output_type": "stream",
          "name": "stdout",
          "text": [
            "Epoch 1/5\n",
            "\u001b[1m844/844\u001b[0m \u001b[32m━━━━━━━━━━━━━━━━━━━━\u001b[0m\u001b[37m\u001b[0m \u001b[1m43s\u001b[0m 49ms/step - accuracy: 0.8816 - loss: 0.4096 - val_accuracy: 0.9803 - val_loss: 0.0699\n",
            "Epoch 2/5\n",
            "\u001b[1m844/844\u001b[0m \u001b[32m━━━━━━━━━━━━━━━━━━━━\u001b[0m\u001b[37m\u001b[0m \u001b[1m85s\u001b[0m 52ms/step - accuracy: 0.9801 - loss: 0.0639 - val_accuracy: 0.9863 - val_loss: 0.0431\n",
            "Epoch 3/5\n",
            "\u001b[1m844/844\u001b[0m \u001b[32m━━━━━━━━━━━━━━━━━━━━\u001b[0m\u001b[37m\u001b[0m \u001b[1m79s\u001b[0m 48ms/step - accuracy: 0.9865 - loss: 0.0429 - val_accuracy: 0.9892 - val_loss: 0.0341\n",
            "Epoch 4/5\n",
            "\u001b[1m844/844\u001b[0m \u001b[32m━━━━━━━━━━━━━━━━━━━━\u001b[0m\u001b[37m\u001b[0m \u001b[1m41s\u001b[0m 48ms/step - accuracy: 0.9905 - loss: 0.0316 - val_accuracy: 0.9892 - val_loss: 0.0332\n",
            "Epoch 5/5\n",
            "\u001b[1m844/844\u001b[0m \u001b[32m━━━━━━━━━━━━━━━━━━━━\u001b[0m\u001b[37m\u001b[0m \u001b[1m42s\u001b[0m 50ms/step - accuracy: 0.9931 - loss: 0.0216 - val_accuracy: 0.9887 - val_loss: 0.0382\n",
            "\u001b[1m313/313\u001b[0m \u001b[32m━━━━━━━━━━━━━━━━━━━━\u001b[0m\u001b[37m\u001b[0m \u001b[1m2s\u001b[0m 8ms/step - accuracy: 0.9873 - loss: 0.0359\n",
            "Medium Model Results:\n",
            " Training Time: 329.47s\n",
            " Accuracy: 0.9896, Loss: 0.0301\n",
            " Memory Usage: 1522.42 MB\n"
          ]
        }
      ]
    },
    {
      "cell_type": "code",
      "source": [
        "# 🔴 Hard Model: Deep CNN (3 hidden layers + Dropout)\n",
        "\n",
        "import tensorflow as tf\n",
        "from tensorflow.keras import layers, models\n",
        "from tensorflow.keras.datasets import mnist\n",
        "import time, psutil, os\n",
        "\n",
        "# Data\n",
        "(x_train, y_train), (x_test, y_test) = mnist.load_data()\n",
        "x_train, x_test = x_train / 255.0, x_test / 255.0\n",
        "x_train_cnn = x_train.reshape((-1, 28, 28, 1))\n",
        "x_test_cnn = x_test.reshape((-1, 28, 28, 1))\n",
        "\n",
        "# Model\n",
        "model_hard = models.Sequential([\n",
        "    layers.Conv2D(32, (3,3), activation='relu', input_shape=(28,28,1)),\n",
        "    layers.Conv2D(64, (3,3), activation='relu'),\n",
        "    layers.MaxPooling2D((2,2)),\n",
        "    layers.Dropout(0.25),\n",
        "    layers.Conv2D(128, (3,3), activation='relu'),\n",
        "    layers.MaxPooling2D((2,2)),\n",
        "    layers.Flatten(),\n",
        "    layers.Dense(256, activation='relu'),\n",
        "    layers.Dropout(0.5),\n",
        "    layers.Dense(10, activation='softmax')\n",
        "])\n",
        "model_hard.compile(optimizer='adam',\n",
        "                   loss='sparse_categorical_crossentropy',\n",
        "                   metrics=['accuracy'])\n",
        "\n",
        "# Train & Benchmark\n",
        "start_time = time.time()\n",
        "model_hard.fit(x_train_cnn, y_train, epochs=5, batch_size=64, validation_split=0.1)\n",
        "end_time = time.time()\n",
        "\n",
        "test_loss, test_acc = model_hard.evaluate(x_test_cnn, y_test)\n",
        "mem_usage = psutil.Process(os.getpid()).memory_info().rss / (1024 ** 2)\n",
        "\n",
        "\n",
        "print(\"Hard Model Results:\")\n",
        "print(f\" Training Time: {end_time - start_time:.2f}s\")\n",
        "print(f\" Accuracy: {test_acc:.4f}, Loss: {test_loss:.4f}\")\n",
        "print(f\" Memory Usage: {mem_usage:.2f} MB\")\n"
      ],
      "metadata": {
        "id": "LfBDzjm9BO8t",
        "colab": {
          "base_uri": "https://localhost:8080/"
        },
        "outputId": "54fcb2d6-e830-40e9-dd2b-82b83b4cdcdf"
      },
      "execution_count": 7,
      "outputs": [
        {
          "output_type": "stream",
          "name": "stdout",
          "text": [
            "Epoch 1/5\n",
            "\u001b[1m844/844\u001b[0m \u001b[32m━━━━━━━━━━━━━━━━━━━━\u001b[0m\u001b[37m\u001b[0m \u001b[1m188s\u001b[0m 221ms/step - accuracy: 0.8716 - loss: 0.3979 - val_accuracy: 0.9893 - val_loss: 0.0363\n",
            "Epoch 2/5\n",
            "\u001b[1m844/844\u001b[0m \u001b[32m━━━━━━━━━━━━━━━━━━━━\u001b[0m\u001b[37m\u001b[0m \u001b[1m202s\u001b[0m 221ms/step - accuracy: 0.9819 - loss: 0.0609 - val_accuracy: 0.9923 - val_loss: 0.0285\n",
            "Epoch 3/5\n",
            "\u001b[1m844/844\u001b[0m \u001b[32m━━━━━━━━━━━━━━━━━━━━\u001b[0m\u001b[37m\u001b[0m \u001b[1m203s\u001b[0m 222ms/step - accuracy: 0.9865 - loss: 0.0431 - val_accuracy: 0.9913 - val_loss: 0.0303\n",
            "Epoch 4/5\n",
            "\u001b[1m844/844\u001b[0m \u001b[32m━━━━━━━━━━━━━━━━━━━━\u001b[0m\u001b[37m\u001b[0m \u001b[1m189s\u001b[0m 224ms/step - accuracy: 0.9901 - loss: 0.0303 - val_accuracy: 0.9927 - val_loss: 0.0288\n",
            "Epoch 5/5\n",
            "\u001b[1m844/844\u001b[0m \u001b[32m━━━━━━━━━━━━━━━━━━━━\u001b[0m\u001b[37m\u001b[0m \u001b[1m199s\u001b[0m 220ms/step - accuracy: 0.9911 - loss: 0.0299 - val_accuracy: 0.9907 - val_loss: 0.0346\n",
            "\u001b[1m313/313\u001b[0m \u001b[32m━━━━━━━━━━━━━━━━━━━━\u001b[0m\u001b[37m\u001b[0m \u001b[1m10s\u001b[0m 32ms/step - accuracy: 0.9910 - loss: 0.0246\n",
            "Hard Model Results:\n",
            " Training Time: 981.02s\n",
            " Accuracy: 0.9929, Loss: 0.0215\n",
            " Memory Usage: 1516.81 MB\n"
          ]
        }
      ]
    }
  ]
}